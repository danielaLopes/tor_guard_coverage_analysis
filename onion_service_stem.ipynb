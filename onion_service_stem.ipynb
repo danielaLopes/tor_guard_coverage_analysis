{
 "cells": [
  {
   "cell_type": "markdown",
   "metadata": {},
   "source": [
    "Methodology was based on Section 6.2 of paper \"Quantifying measurement quality and load distribution in Tor\": https://dl.acm.org/doi/pdf/10.1145/3427228.3427238\n",
    "\n",
    "* I can always create a new container image with a Tor process representing each client and it will always choose a new guard node, so I don't have to change the default Tor definitions\n",
    "* Log all relays along with their data, specifically geographical location, used in each client circuit.\n",
    "* In the paper, the authors logged over 8.6 million circuits, representing about 275,000 circuits per day\n",
    "* Drop the circuit immediately after creation to ensure not overloading the guard relays\n",
    "* Wait 16 minutes between each circuit"
   ]
  },
  {
   "cell_type": "code",
   "execution_count": 1,
   "metadata": {},
   "outputs": [
    {
     "name": "stdout",
     "output_type": "stream",
     "text": [
      "Requirement already satisfied: stem in /Users/danielalopes/opt/anaconda3/envs/ml_experiments/lib/python3.9/site-packages (1.8.2)\n"
     ]
    }
   ],
   "source": [
    "!pip install stem"
   ]
  },
  {
   "cell_type": "code",
   "execution_count": 2,
   "metadata": {},
   "outputs": [],
   "source": [
    "import subprocess\n",
    "import requests\n",
    "import shlex\n",
    "import traceback\n",
    "import time\n",
    "import threading\n",
    "from stem import CircStatus\n",
    "from stem.control import Controller\n",
    "import stem.process\n"
   ]
  },
  {
   "cell_type": "code",
   "execution_count": 3,
   "metadata": {},
   "outputs": [],
   "source": [
    "BASE_DIR = 'data'\n",
    "SOCKS_PORT = 9050\n",
    "CONTROL_PORT = 9051\n",
    "ONION_SERVICE_FOLDER = 'onion_service/'\n",
    "WEB_PORT = 8080\n",
    "\n",
    "GUARD_NODES_FILE = 'guard_nodes_onion.joblib'\n",
    "MIDDLE_NODES_FILE = 'middle_nodes_onion.joblib'\n",
    "EXIT_NODES_FILE = 'exit_nodes_onion.joblib'"
   ]
  },
  {
   "cell_type": "markdown",
   "metadata": {},
   "source": [
    "### More stem references\n",
    "* https://tor.stackexchange.com/questions/7049/stem-how-to-get-current-in-use-circuit\n",
    "* https://github.com/webfp/tor-browser-selenium/blob/main/examples/stem_adv.py\n",
    "* https://stem.torproject.org/tutorials/to_russia_with_love.html#custom-path-selection\n",
    "* https://stem.torproject.org/api.html\n",
    "* https://stem.torproject.org/api/descriptor/hidden_service.html\n",
    "* Measure times of circuit establishment, including to introduction points, using stem, is only two years old, and supports onion services V3: https://github.com/mobilesec/onion-service-time-measurement/tree/main\n"
   ]
  },
  {
   "cell_type": "code",
   "execution_count": 6,
   "metadata": {},
   "outputs": [],
   "source": [
    "def get_geolocation(ip_address):\n",
    "    url = f\"https://ipinfo.io/{ip_address}/json\"\n",
    "    response = requests.get(url)\n",
    "    data = response.json()\n",
    "\n",
    "    print(f\"IP Address: {ip_address}\")\n",
    "    print(f\"Location: {data.get('city', '')}, {data.get('region', '')}, {data.get('country', '')}\")\n",
    "    print(f\"ISP: {data.get('org', '')}\")\n",
    "    print(\"=\" * 30)\n",
    "\n",
    "    return data"
   ]
  },
  {
   "cell_type": "code",
   "execution_count": 7,
   "metadata": {},
   "outputs": [],
   "source": [
    "def get_circuit_data(controller, circuit):\n",
    "    guard_ip, middle_ip, exit_ip = None, None, None\n",
    "    print(\"Circuit characteristics:\", circuit)\n",
    "    if circuit.status == CircStatus.BUILT and len(circuit.path) >=3:\n",
    "        guard_fingerprint = circuit.path[0][0]  # The first hop is the guard relay\n",
    "        print(\"GUARD\", circuit.path[0])\n",
    "        middle_fingerprint = circuit.path[1][0]\n",
    "        print(\"MIDDLE\", circuit.path[1])\n",
    "        exit_fingerprint = circuit.path[2][0]\n",
    "        print(\"LAST\", circuit.path[2])\n",
    "\n",
    "        # Get relay details for each hop\n",
    "        guard_relay = controller.get_network_status(guard_fingerprint)\n",
    "        middle_relay = controller.get_network_status(middle_fingerprint)\n",
    "        exit_relay = controller.get_network_status(exit_fingerprint)\n",
    "\n",
    "        print(\"Guard relay flags\", guard_relay.flags)\n",
    "        print(\"Middle relay flags\", middle_relay.flags)\n",
    "        print(\"Exit relay flags\", exit_relay.flags)\n",
    "\n",
    "        guard_ip =  guard_relay.address\n",
    "        middle_ip = middle_relay.address\n",
    "        exit_ip = exit_relay.address\n",
    "\n",
    "    else:\n",
    "        print(\"Circuit skipped\")\n",
    "\n",
    "    return guard_ip, middle_ip, exit_ip"
   ]
  },
  {
   "cell_type": "code",
   "execution_count": 8,
   "metadata": {},
   "outputs": [],
   "source": [
    "def change_permissions_onion_service_folder():\n",
    "    command = f\"chmod 700 {ONION_SERVICE_FOLDER}\"\n",
    "    tor_process = subprocess.Popen(shlex.split(command))\n",
    "    return tor_process"
   ]
  },
  {
   "cell_type": "code",
   "execution_count": 9,
   "metadata": {},
   "outputs": [],
   "source": [
    "def log_callback(line):\n",
    "    print(line)"
   ]
  },
  {
   "cell_type": "markdown",
   "metadata": {},
   "source": [
    "### How to create circuits with onion services\n",
    "* https://gist.github.com/PaulSec/ec8f1689bfde3ce9a920"
   ]
  },
  {
   "cell_type": "code",
   "execution_count": 11,
   "metadata": {},
   "outputs": [],
   "source": [
    "def create_dummy_onion_service():\n",
    "    return stem.process.launch_tor_with_config(\n",
    "        config={\n",
    "            'SocksPort': str(SOCKS_PORT),\n",
    "            'ControlPort': str(CONTROL_PORT),\n",
    "            'HiddenServiceDir': {ONION_SERVICE_FOLDER},\n",
    "            'HiddenServicePort': f'80 127.0.0.1:{WEB_PORT}',\n",
    "            'NumEntryGuards': '0' # So that it keeps using new guards\n",
    "            'Log': 'NOTICE stdout'  # Redirect log messages to stdout\n",
    "        },\n",
    "        completion_percent=100,\n",
    "        init_msg_handler=log_callback\n",
    "    )"
   ]
  },
  {
   "cell_type": "code",
   "execution_count": 12,
   "metadata": {},
   "outputs": [],
   "source": [
    "def get_onion_url():\n",
    "    with open(ONION_SERVICE_FOLDER+'hostname') as f:\n",
    "        onion_url = f.readline()\n",
    "    onion_url = onion_url.split('\\n')[0]\n",
    "    return onion_url"
   ]
  },
  {
   "cell_type": "code",
   "execution_count": null,
   "metadata": {},
   "outputs": [],
   "source": [
    "guard_nodes = {}\n",
    "middle_nodes = {}\n",
    "exit_nodes = {}"
   ]
  },
  {
   "cell_type": "code",
   "execution_count": null,
   "metadata": {},
   "outputs": [],
   "source": [
    "@retry(wait_exponential_multiplier=1000, wait_exponential_max=10000, stop_max_attempt_number=10)\n",
    "def create_new_circuit_and_close(controller, iteration):\n",
    "    print(f\"RETRY create_new_circuit({iteration})\")\n",
    "    \n",
    "    circuit_id = controller.new_circuit(await_build=True, timeout=60)\n",
    "    circuit = controller.get_circuits()[-1]\n",
    "\n",
    "    guard_ip, middle_ip, exit_ip = get_circuit_data(controller, circuit)\n",
    "    ip, country, isp = get_geolocation(guard_ip)\n",
    "    guard_nodes[ip] = {'country': country, 'isp': isp}\n",
    "    ip, country, isp = get_geolocation(middle_ip)\n",
    "    middle_nodes[ip] = {'country': country, 'isp': isp}\n",
    "    ip, country, isp = get_geolocation(exit_ip)\n",
    "    exit_nodes[ip] = {'country': country, 'isp': isp}\n",
    "\n",
    "    controller.close_circuit(circuit_id)"
   ]
  },
  {
   "cell_type": "code",
   "execution_count": null,
   "metadata": {},
   "outputs": [],
   "source": [
    "def change_guard_node(controller):\n",
    "    # We need to have the line \"UseEntryGuards 0\" in the torrc for this to work\n",
    "    controller.signal(\"NEWNYM\")\n",
    "    print(\"Requested a new identity (including new guard nodes)\")"
   ]
  },
  {
   "cell_type": "code",
   "execution_count": 13,
   "metadata": {},
   "outputs": [],
   "source": [
    "\n",
    "def connect_to_controller(iteration):\n",
    "    with Controller.from_port(address=\"127.0.0.1\", port=CONTROL_PORT) as controller:\n",
    "        controller.authenticate()\n",
    "        print(\"Successfully authenticated with Tor control port\")\n",
    "\n",
    "        print(\"Created {} preemptive circuits\".format(len(controller.get_circuits())))\n",
    "        print(\"Tor will chose a random one from these to start the next session\")\n",
    "        \n",
    "        print(\"=== Iteration {}\".format(iteration))\n",
    "        try:\n",
    "            create_new_circuit_and_close(controller, iteration)\n",
    "        except Exception as e:\n",
    "            print(f\"create_new_circuit_and_close() failed for iteration {iteration} after 10 attempts. Continuing ...\")\n",
    "            time.sleep(10)\n",
    "        change_guard_node(controller)\n",
    "    "
   ]
  },
  {
   "cell_type": "markdown",
   "metadata": {},
   "source": [
    "### Check if Tor is already running\n",
    "First, restart the kernel. Then, run the following commands:\n",
    "```\n",
    "sudo lsof -i -P | grep LISTEN | grep 9050\n",
    "sudo kill -9 95441\n",
    "```"
   ]
  },
  {
   "cell_type": "code",
   "execution_count": 14,
   "metadata": {},
   "outputs": [
    {
     "name": "stdout",
     "output_type": "stream",
     "text": [
      "Aug 15 12:39:32.804 [notice] Tor 0.4.7.14 running on Darwin with Libevent 2.1.12-stable, OpenSSL 3.1.2, Zlib 1.2.11, Liblzma N/A, Libzstd N/A and Unknown N/A as libc.\n",
      "Aug 15 12:39:32.804 [notice] Tor can't help you if you use it wrong! Learn how to be safe at https://support.torproject.org/faq/staying-anonymous/\n",
      "Aug 15 12:39:32.805 [warn] Path for HiddenServiceDir (onion_service/) is relative and will resolve to /Users/danielalopes/coverage_analysis_ndss_2024/onion_service/. Is this what you wanted?\n",
      "Aug 15 12:39:32.806 [notice] Opening Socks listener on 127.0.0.1:9050\n",
      "Aug 15 12:39:32.806 [notice] Opened Socks listener connection (ready) on 127.0.0.1:9050\n",
      "Aug 15 12:39:32.000 [notice] Parsing GEOIP IPv4 file /opt/homebrew/Cellar/tor/0.4.7.14/share/tor/geoip.\n",
      "Aug 15 12:39:32.000 [notice] Parsing GEOIP IPv6 file /opt/homebrew/Cellar/tor/0.4.7.14/share/tor/geoip6.\n",
      "Aug 15 12:39:32.000 [notice] Bootstrapped 0% (starting): Starting\n",
      "Aug 15 12:39:33.000 [notice] Starting with guard context \"default\"\n",
      "Aug 15 12:39:34.000 [notice] Bootstrapped 5% (conn): Connecting to a relay\n",
      "Aug 15 12:39:34.000 [notice] Bootstrapped 10% (conn_done): Connected to a relay\n",
      "Aug 15 12:39:34.000 [notice] Bootstrapped 14% (handshake): Handshaking with a relay\n",
      "Aug 15 12:39:34.000 [notice] Bootstrapped 15% (handshake_done): Handshake with a relay done\n",
      "Aug 15 12:39:34.000 [notice] Bootstrapped 75% (enough_dirinfo): Loaded enough directory info to build circuits\n",
      "Aug 15 12:39:34.000 [notice] Bootstrapped 90% (ap_handshake_done): Handshake finished with a relay to build circuits\n",
      "Aug 15 12:39:34.000 [notice] Bootstrapped 95% (circuit_create): Establishing a Tor circuit\n",
      "Aug 15 12:39:36.000 [notice] Bootstrapped 100% (done): Done\n",
      "onion_process <Popen: returncode: None args: ['tor', '-f', '-']>\n",
      "Tor process started. Waiting for a moment...\n"
     ]
    },
    {
     "ename": "KeyboardInterrupt",
     "evalue": "",
     "output_type": "error",
     "traceback": [
      "\u001b[0;31m---------------------------------------------------------------------------\u001b[0m",
      "\u001b[0;31mKeyboardInterrupt\u001b[0m                         Traceback (most recent call last)",
      "Cell \u001b[0;32mIn[14], line 10\u001b[0m\n\u001b[1;32m      8\u001b[0m     \u001b[39mprint\u001b[39m(\u001b[39m\"\u001b[39m\u001b[39monion_process\u001b[39m\u001b[39m\"\u001b[39m, onion_process)\n\u001b[1;32m      9\u001b[0m     \u001b[39mprint\u001b[39m(\u001b[39m\"\u001b[39m\u001b[39mTor process started. Waiting for a moment...\u001b[39m\u001b[39m\"\u001b[39m)\n\u001b[0;32m---> 10\u001b[0m     time\u001b[39m.\u001b[39;49msleep(\u001b[39m500\u001b[39;49m)\n\u001b[1;32m     12\u001b[0m \u001b[39mexcept\u001b[39;00m \u001b[39mException\u001b[39;00m \u001b[39mas\u001b[39;00m e:\n\u001b[1;32m     13\u001b[0m     traceback\u001b[39m.\u001b[39mprint_exc()\n",
      "\u001b[0;31mKeyboardInterrupt\u001b[0m: "
     ]
    }
   ],
   "source": [
    "#stop_tor()\n",
    "# Start Tor process in the background\n",
    "#tor_process = start_tor()\n",
    "change_permissions_onion_service_folder()\n",
    "onion_process = None\n",
    "try:\n",
    "    onion_process = create_dummy_onion_service()\n",
    "    print(\"onion_process\", onion_process)\n",
    "    print(\"Tor process started. Waiting for a moment...\")\n",
    "    time.sleep(10)\n",
    "\n",
    "except Exception as e:\n",
    "    traceback.print_exc()\n",
    "    if onion_process:\n",
    "        onion_process.terminate()\n",
    "        print(\"Exited Tor process cleanly after error\")\n",
    "\n",
    "try:\n",
    "    iterations = 10000\n",
    "    for iteration in tqdm(range(iterations)):\n",
    "        connect_to_controller(iteration)\n",
    "        # So that it updates at every iteration\n",
    "        joblib.dump(guard_nodes, GUARD_NODES_FILE)\n",
    "        joblib.dump(middle_nodes, MIDDLE_NODES_FILE)\n",
    "        joblib.dump(exit_nodes, EXIT_NODES_FILE)\n",
    "\n",
    "except Exception as e:\n",
    "    traceback.print_exc()\n",
    "\n",
    "finally:\n",
    "    if onion_process:\n",
    "        onion_process.terminate()\n",
    "        print(\"Exited Tor process cleanly at the end\")\n",
    "\n",
    "\n",
    "    "
   ]
  },
  {
   "cell_type": "code",
   "execution_count": null,
   "metadata": {},
   "outputs": [],
   "source": [
    "guard_nodes = joblib.load(GUARD_NODES_FILE)\n",
    "print(\"\\nguard_nodes\", guard_nodes)\n",
    "print(\"len(guard_nodes)\", guard_nodes)"
   ]
  }
 ],
 "metadata": {
  "kernelspec": {
   "display_name": "ml_experiments",
   "language": "python",
   "name": "python3"
  },
  "language_info": {
   "codemirror_mode": {
    "name": "ipython",
    "version": 3
   },
   "file_extension": ".py",
   "mimetype": "text/x-python",
   "name": "python",
   "nbconvert_exporter": "python",
   "pygments_lexer": "ipython3",
   "version": "3.9.0"
  },
  "orig_nbformat": 4
 },
 "nbformat": 4,
 "nbformat_minor": 2
}
