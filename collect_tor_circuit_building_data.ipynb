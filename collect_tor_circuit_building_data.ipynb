{
 "cells": [
  {
   "cell_type": "markdown",
   "metadata": {},
   "source": [
    "Methodology was based on Section 6.2 of paper \"Quantifying measurement quality and load distribution in Tor\": https://dl.acm.org/doi/pdf/10.1145/3427228.3427238\n",
    "\n",
    "* I can always create a new container image with a Tor process representing each client and it will always choose a new guard node, so I don't have to change the default Tor definitions\n",
    "* Log all relays along with their data, specifically geographical location, used in each client circuit.\n",
    "* In the paper, the authors logged over 8.6 million circuits, representing about 275,000 circuits per day\n",
    "* Drop the circuit immediately after creation to ensure not overloading the guard relays\n",
    "* Wait 16 minutes between each circuit"
   ]
  },
  {
   "cell_type": "code",
   "execution_count": null,
   "metadata": {},
   "outputs": [
    {
     "name": "stdout",
     "output_type": "stream",
     "text": [
      "Requirement already satisfied: stem in /Users/danielalopes/opt/anaconda3/envs/ml_experiments/lib/python3.9/site-packages (1.8.2)\n",
      "Requirement already satisfied: retrying in /Users/danielalopes/opt/anaconda3/envs/ml_experiments/lib/python3.9/site-packages (1.3.4)\n",
      "Requirement already satisfied: six>=1.7.0 in /Users/danielalopes/.local/lib/python3.9/site-packages (from retrying) (1.16.0)\n",
      "Requirement already satisfied: flask in /Users/danielalopes/opt/anaconda3/envs/ml_experiments/lib/python3.9/site-packages (2.3.2)\n",
      "Requirement already satisfied: Werkzeug>=2.3.3 in /Users/danielalopes/opt/anaconda3/envs/ml_experiments/lib/python3.9/site-packages (from flask) (2.3.7)\n",
      "Requirement already satisfied: Jinja2>=3.1.2 in /Users/danielalopes/.local/lib/python3.9/site-packages (from flask) (3.1.2)\n",
      "Requirement already satisfied: itsdangerous>=2.1.2 in /Users/danielalopes/opt/anaconda3/envs/ml_experiments/lib/python3.9/site-packages (from flask) (2.1.2)\n",
      "Requirement already satisfied: click>=8.1.3 in /Users/danielalopes/opt/anaconda3/envs/ml_experiments/lib/python3.9/site-packages (from flask) (8.1.6)\n",
      "Requirement already satisfied: blinker>=1.6.2 in /Users/danielalopes/opt/anaconda3/envs/ml_experiments/lib/python3.9/site-packages (from flask) (1.6.2)\n",
      "Requirement already satisfied: importlib-metadata>=3.6.0 in /Users/danielalopes/.local/lib/python3.9/site-packages (from flask) (6.8.0)\n",
      "Requirement already satisfied: zipp>=0.5 in /Users/danielalopes/.local/lib/python3.9/site-packages (from importlib-metadata>=3.6.0->flask) (3.16.2)\n",
      "Requirement already satisfied: MarkupSafe>=2.0 in /Users/danielalopes/.local/lib/python3.9/site-packages (from Jinja2>=3.1.2->flask) (2.1.3)\n"
     ]
    }
   ],
   "source": [
    "!pip install stem\n",
    "!pip install retrying\n",
    "!pip install flask\n"
   ]
  },
  {
   "cell_type": "code",
   "execution_count": null,
   "metadata": {},
   "outputs": [],
   "source": [
    "import subprocess\n",
    "import requests\n",
    "import shlex\n",
    "import traceback\n",
    "import time\n",
    "import threading\n",
    "from stem import CircStatus\n",
    "from stem.control import Controller\n",
    "import stem.process\n",
    "import stem.descriptor.remote\n",
    "from retrying import retry\n",
    "import os\n",
    "import shutil\n",
    "from flask import Flask\n",
    "import sys\n"
   ]
  },
  {
   "cell_type": "code",
   "execution_count": null,
   "metadata": {},
   "outputs": [],
   "source": [
    "BASE_DIR = 'data'\n",
    "SOCKS_PORT = 9050\n",
    "CONTROL_PORT = 9051\n",
    "ONION_SERVICE_FOLDER = 'onion_service/'\n",
    "WEB_PORT = 8080"
   ]
  },
  {
   "cell_type": "code",
   "execution_count": null,
   "metadata": {},
   "outputs": [],
   "source": [
    "def stop_tor():\n",
    "    command = \"sudo pkill tor\"\n",
    "    tor_process = subprocess.Popen(shlex.split(command))\n",
    "    return tor_process"
   ]
  },
  {
   "cell_type": "code",
   "execution_count": null,
   "metadata": {},
   "outputs": [],
   "source": [
    "def start_tor():\n",
    "    command = \"/opt/homebrew/opt/tor/bin/tor -f data/torrc\"\n",
    "    tor_process = subprocess.Popen(shlex.split(command))\n",
    "    return tor_process"
   ]
  },
  {
   "cell_type": "markdown",
   "metadata": {},
   "source": [
    "### More stem references\n",
    "* https://tor.stackexchange.com/questions/7049/stem-how-to-get-current-in-use-circuit\n",
    "* https://github.com/webfp/tor-browser-selenium/blob/main/examples/stem_adv.py\n",
    "* https://stem.torproject.org/tutorials/to_russia_with_love.html#custom-path-selection\n",
    "* https://stem.torproject.org/api.html"
   ]
  },
  {
   "cell_type": "code",
   "execution_count": null,
   "metadata": {},
   "outputs": [],
   "source": [
    "def get_geolocation(ip_address):\n",
    "    url = f\"https://ipinfo.io/{ip_address}/json\"\n",
    "    response = requests.get(url)\n",
    "    data = response.json()\n",
    "\n",
    "    print(f\"IP Address: {ip_address}\")\n",
    "    print(f\"Location: {data.get('city', '')}, {data.get('region', '')}, {data.get('country', '')}\")\n",
    "    print(f\"ISP: {data.get('org', '')}\")\n",
    "    print(\"=\" * 30)\n",
    "\n",
    "    return data"
   ]
  },
  {
   "cell_type": "code",
   "execution_count": null,
   "metadata": {},
   "outputs": [],
   "source": [
    "def get_circuit_data(controller, circuit):\n",
    "    guard_ip, middle_ip, exit_ip = None, None, None\n",
    "    print(\"Circuit characteristics:\", circuit)\n",
    "    if circuit.status == CircStatus.BUILT and len(circuit.path) >=3:\n",
    "        guard_fingerprint = circuit.path[0][0]  # The first hop is the guard relay\n",
    "        print(\"GUARD\", circuit.path[0])\n",
    "        middle_fingerprint = circuit.path[1][0]\n",
    "        print(\"MIDDLE\", circuit.path[1])\n",
    "        exit_fingerprint = circuit.path[2][0]\n",
    "        print(\"LAST\", circuit.path[2])\n",
    "\n",
    "        # Get relay details for each hop\n",
    "        guard_relay = controller.get_network_status(guard_fingerprint)\n",
    "        middle_relay = controller.get_network_status(middle_fingerprint)\n",
    "        exit_relay = controller.get_network_status(exit_fingerprint)\n",
    "\n",
    "        print(\"Guard relay flags\", guard_relay.flags)\n",
    "        print(\"Middle relay flags\", middle_relay.flags)\n",
    "        print(\"Exit relay flags\", exit_relay.flags)\n",
    "\n",
    "        guard_ip =  guard_relay.address\n",
    "        middle_ip = middle_relay.address\n",
    "        exit_ip = exit_relay.address\n",
    "\n",
    "    else:\n",
    "        print(\"Circuit skipped\")\n",
    "\n",
    "    return guard_ip, middle_ip, exit_ip"
   ]
  },
  {
   "cell_type": "code",
   "execution_count": null,
   "metadata": {},
   "outputs": [],
   "source": [
    "def change_permissions_onion_service_folder():\n",
    "    command = f\"chmod 700 {ONION_SERVICE_FOLDER}\"\n",
    "    tor_process = subprocess.Popen(shlex.split(command))\n",
    "    return tor_process"
   ]
  },
  {
   "cell_type": "code",
   "execution_count": null,
   "metadata": {},
   "outputs": [],
   "source": [
    "def log_callback(line):\n",
    "    print(line)"
   ]
  },
  {
   "cell_type": "code",
   "execution_count": null,
   "metadata": {},
   "outputs": [],
   "source": [
    "app = Flask(__name__)\n",
    "\n",
    "@app.route('/')\n",
    "def index():\n",
    "    return \"<h1>Hi Grandma!</h1>\"\n",
    "\n",
    "def start_web_app():\n",
    "    app.run(port=WEB_PORT)"
   ]
  },
  {
   "cell_type": "markdown",
   "metadata": {},
   "source": [
    "### How to create circuits with onion services\n",
    "* https://gist.github.com/PaulSec/ec8f1689bfde3ce9a920"
   ]
  },
  {
   "cell_type": "code",
   "execution_count": null,
   "metadata": {},
   "outputs": [],
   "source": [
    "def create_dummy_onion_service():\n",
    "\n",
    "    return stem.process.launch_tor_with_config(\n",
    "        config={\n",
    "            'SocksPort': str(SOCKS_PORT),\n",
    "            'ControlPort': str(CONTROL_PORT),\n",
    "            'HiddenServiceDir': {ONION_SERVICE_FOLDER},\n",
    "            'HiddenServicePort': '80 127.0.0.1:8080',\n",
    "            'Log': 'NOTICE stdout'  # Redirect log messages to stdout\n",
    "        },\n",
    "        completion_percent=100,\n",
    "        init_msg_handler=log_callback\n",
    "    )"
   ]
  },
  {
   "cell_type": "markdown",
   "metadata": {},
   "source": [
    "### Getting Tor descriptors\n",
    "* https://stem.torproject.org/api/descriptor/remote.html"
   ]
  },
  {
   "cell_type": "code",
   "execution_count": null,
   "metadata": {},
   "outputs": [],
   "source": [
    "def print_relay_fingerprints():\n",
    "    downloader = stem.descriptor.remote.DescriptorDownloader(\n",
    "        use_mirrors = True,\n",
    "        timeout = 10,\n",
    "    )\n",
    "\n",
    "    query = downloader.get_server_descriptors()\n",
    "\n",
    "    for desc in query.run():\n",
    "        print('  %s (%s)' % (desc.nickname, desc.fingerprint))"
   ]
  },
  {
   "cell_type": "code",
   "execution_count": null,
   "metadata": {},
   "outputs": [],
   "source": [
    "def get_onion_service_introduction_points(controller, onion_url):\n",
    "    try:\n",
    "        onion_name = onion_url.split('.onion')[0]\n",
    "        print(\"onion_name\", onion_name)\n",
    "        desc = controller.get_hidden_service_descriptor(onion_name)\n",
    "\n",
    "        print(f\"{onion_url}'s introduction points are...\")\n",
    "        print(\"desc\", desc)\n",
    "        for introduction_point in desc.introduction_points():\n",
    "            print('  %s:%s => %s' % (introduction_point.address, introduction_point.port, introduction_point.identifier))\n",
    "                \n",
    "        return controller.get_network_statuses([onion_url])[0].fingerprint\n",
    "    except Exception as e:\n",
    "        print(\"Error getting onion service fingerprint:\", e)\n",
    "        return None"
   ]
  },
  {
   "cell_type": "code",
   "execution_count": null,
   "metadata": {},
   "outputs": [],
   "source": [
    "def get_onion_url():\n",
    "    with open(ONION_SERVICE_FOLDER+'hostname') as f:\n",
    "        onion_url = f.readline()\n",
    "    onion_url = onion_url.split('\\n')[0]\n",
    "    return onion_url"
   ]
  },
  {
   "cell_type": "code",
   "execution_count": null,
   "metadata": {},
   "outputs": [],
   "source": [
    "# def start_onion_service_app():\n",
    "#     # Start the flask web app in a separate thread\n",
    "#     t = threading.Thread(target=start_web_app)\n",
    "#     t.daemon = True\n",
    "#     t.start()\n",
    "\n",
    "#     with open(ONION_SERVICE_FOLDER+'hostname') as f:\n",
    "#         onion_url = f.readlines()\n",
    "#     print(f\"Started serving at {onion_url}\")"
   ]
  },
  {
   "cell_type": "code",
   "execution_count": null,
   "metadata": {},
   "outputs": [],
   "source": [
    "# Retries this block 5 times, interleaved by 10000 miliseconds\n",
    "#@retry(wait_exponential_multiplier=1000, wait_exponential_max=10000, stop_max_attempt_number=5)\n",
    "def create_new_circuit(controller, client_id, onion_fingerprint):\n",
    "    print(f\"RETRY create_new_circuit({client_id})\")\n",
    "\n",
    "    #onion_url = create_dummy_onion_service(controller)\n",
    "    #print(\"onion_url\", onion_url)\n",
    "    print(\"controller.get_circuits()[-1] BEFORE\", controller.get_circuits()[-1])\n",
    "    circuit_id = controller.new_circuit(await_build=True, timeout=60)\n",
    "    print(\"--- circuit_id\", circuit_id)\n",
    "    print(\"controller.get_circuits()[-1] AFTER\", controller.get_circuits()[-1])\n",
    "    #circuit_id = controller.extend_circuit([circuit_id])\n",
    "    circuit_id = controller.extend_circuit(circuit_id, [onion_fingerprint])\n",
    "    print(\"circuit_id\", circuit_id)\n",
    "    circuit_idx = int(circuit_id) - 1\n",
    "    print(\"circuit_idx\", circuit_idx)\n",
    "    #circuit = controller.get_circuits()[circuit_idx]\n",
    "    #print(\"new circuit\", circuit)\n",
    "    circuit = controller.get_circuits()[-1]\n",
    "\n",
    "    # Retrieve the guard nodes\n",
    "    guard_nodes = controller.get_network_statuses([controller.get_circuit(circuit_id).path[0]])[0]\n",
    "    onion_service_guard_nodes = [guard_nodes.fingerprint]\n",
    "    print(\"Guard Nodes (Onion Service):\", onion_service_guard_nodes)\n",
    "\n",
    "    client_guard_nodes = [controller.get_conf(\"EntryNodes\")[0]]\n",
    "    print(\"Guard Nodes (Client):\", client_guard_nodes)\n",
    "\n",
    "    print(\"new circuit 2\", circuit)\n",
    "    guard_ip, middle_ip, exit_ip = get_circuit_data(controller, circuit)\n",
    "    get_geolocation(guard_ip)\n",
    "    get_geolocation(middle_ip)\n",
    "    get_geolocation(exit_ip)"
   ]
  },
  {
   "cell_type": "code",
   "execution_count": null,
   "metadata": {},
   "outputs": [],
   "source": [
    "\n",
    "def generate_client_circuits(num_clients):\n",
    "    # Has to be Control Port\n",
    "    with Controller.from_port() as controller:\n",
    "    #with Controller.from_port(address=\"127.0.0.1\", port=CONTROL_PORT) as controller:\n",
    "        controller.authenticate()\n",
    "        print(\"Successfully authenticated with Tor control port\")\n",
    "\n",
    "        hidden_service_dir = 'onion_service2'\n",
    "\n",
    "        # Create a hidden service where visitors of port 80 get redirected to local\n",
    "        # port 5000 (this is where Flask runs by default).\n",
    "\n",
    "        print(\" * Creating our hidden service in %s\" % hidden_service_dir)\n",
    "        result = controller.create_hidden_service(hidden_service_dir, 80, target_port=WEB_PORT)\n",
    "\n",
    "        if result is None:\n",
    "            print(\"Could not create hidden service. Exiting ...\")\n",
    "            sys.exit(0)\n",
    "\n",
    "        # The hostname is only available when we can read the hidden service\n",
    "        # directory. This requires us to be running with the same user as tor.\n",
    "        onion_url = None\n",
    "        if result.hostname:\n",
    "            print(\" * Our service is available at %s, press ctrl+c to quit\" % result.hostname)\n",
    "            onion_url = result.hostname\n",
    "        else:\n",
    "            print(\" * Unable to determine our service's hostname, probably due to being unable to read the hidden service directory\")\n",
    "\n",
    "        try:\n",
    "            # Starting onion service app as a background thread\n",
    "            t = threading.Thread(target=start_web_app)\n",
    "            t.daemon = True\n",
    "            t.start()\n",
    "            \n",
    "            #time.sleep(100)\n",
    "\n",
    "            print(f\"Connecting to onion url {onion_url}\")\n",
    "            onion_fingerprint = get_onion_service_introduction_points(controller, onion_url)\n",
    "            print(f\"Onion fingerprint {onion_fingerprint}\")\n",
    "\n",
    "            # for client_id in range(num_clients):\n",
    "            #     print(\"=== Client {}\".format(client_id))\n",
    "            #     create_new_circuit(controller, client_id, onion_fingerprint)\n",
    "        finally:\n",
    "            # Shut down the hidden service and clean it off disk. Note that you *don't*\n",
    "            # want to delete the hidden service directory if you'd like to have this\n",
    "            # same *.onion address in the future.\n",
    "            print(\" * Shutting down our hidden service\")\n",
    "            controller.remove_hidden_service(hidden_service_dir)\n",
    "            shutil.rmtree(hidden_service_dir)\n",
    "        \n",
    "        \n",
    "        #except stem.CircuitExtensionFailed as e:\n",
    "            \n",
    "        # except Exception as e:\n",
    "        #     traceback.print_exc()\n",
    "\n",
    "        # finally:\n",
    "        #     controller.signal(\"SHUTDOWN\") # Stops the Tor process gracefully\n",
    "        #     print(\"Exited Tor process cleanly 2\")\n",
    "    "
   ]
  },
  {
   "cell_type": "markdown",
   "metadata": {},
   "source": [
    "### Check if Tor is already running\n",
    "First, restart the kernel. Then, run the following commands:\n",
    "```\n",
    "sudo lsof -i -P | grep LISTEN | grep 9050\n",
    "sudo kill -9 95441\n",
    "```"
   ]
  },
  {
   "cell_type": "code",
   "execution_count": null,
   "metadata": {},
   "outputs": [
    {
     "name": "stdout",
     "output_type": "stream",
     "text": [
      "Successfully authenticated with Tor control port\n",
      " * Creating our hidden service in /Users/danielalopes/Library/Application Support/TorBrowser-Data/Tor/hello_world\n",
      "Could not create hidden service. Exiting ...\n"
     ]
    },
    {
     "ename": "AttributeError",
     "evalue": "'NoneType' object has no attribute 'hostname'",
     "output_type": "error",
     "traceback": [
      "\u001b[0;31m---------------------------------------------------------------------------\u001b[0m",
      "\u001b[0;31mAttributeError\u001b[0m                            Traceback (most recent call last)",
      "Cell \u001b[0;32mIn[18], line 21\u001b[0m\n\u001b[1;32m      1\u001b[0m \u001b[39m#stop_tor()\u001b[39;00m\n\u001b[1;32m      2\u001b[0m \u001b[39m# Start Tor process in the background\u001b[39;00m\n\u001b[1;32m      3\u001b[0m \u001b[39m#tor_process = start_tor()\u001b[39;00m\n\u001b[0;32m   (...)\u001b[0m\n\u001b[1;32m     18\u001b[0m \n\u001b[1;32m     19\u001b[0m \u001b[39m# try:\u001b[39;00m\n\u001b[1;32m     20\u001b[0m num_clients \u001b[39m=\u001b[39m \u001b[39m10\u001b[39m\n\u001b[0;32m---> 21\u001b[0m generate_client_circuits(num_clients)\n\u001b[1;32m     23\u001b[0m \u001b[39m# except Exception as e:\u001b[39;00m\n\u001b[1;32m     24\u001b[0m \u001b[39m#     traceback.print_exc()\u001b[39;00m\n\u001b[1;32m     25\u001b[0m \n\u001b[0;32m   (...)\u001b[0m\n\u001b[1;32m     28\u001b[0m \u001b[39m#         onion_process.terminate()\u001b[39;00m\n\u001b[1;32m     29\u001b[0m \u001b[39m#         print(\"Exited Tor process cleanly at the end\")\u001b[39;00m\n",
      "Cell \u001b[0;32mIn[17], line 23\u001b[0m, in \u001b[0;36mgenerate_client_circuits\u001b[0;34m(num_clients)\u001b[0m\n\u001b[1;32m     20\u001b[0m \u001b[39m# The hostname is only available when we can read the hidden service\u001b[39;00m\n\u001b[1;32m     21\u001b[0m \u001b[39m# directory. This requires us to be running with the same user as tor.\u001b[39;00m\n\u001b[1;32m     22\u001b[0m onion_url \u001b[39m=\u001b[39m \u001b[39mNone\u001b[39;00m\n\u001b[0;32m---> 23\u001b[0m \u001b[39mif\u001b[39;00m result\u001b[39m.\u001b[39;49mhostname:\n\u001b[1;32m     24\u001b[0m     \u001b[39mprint\u001b[39m(\u001b[39m\"\u001b[39m\u001b[39m * Our service is available at \u001b[39m\u001b[39m%s\u001b[39;00m\u001b[39m, press ctrl+c to quit\u001b[39m\u001b[39m\"\u001b[39m \u001b[39m%\u001b[39m result\u001b[39m.\u001b[39mhostname)\n\u001b[1;32m     25\u001b[0m     onion_url \u001b[39m=\u001b[39m result\u001b[39m.\u001b[39mhostname\n",
      "\u001b[0;31mAttributeError\u001b[0m: 'NoneType' object has no attribute 'hostname'"
     ]
    },
    {
     "ename": "",
     "evalue": "",
     "output_type": "error",
     "traceback": [
      "\u001b[1;31mThe Kernel crashed while executing code in the the current cell or a previous cell. Please review the code in the cell(s) to identify a possible cause of the failure. Click <a href='https://aka.ms/vscodeJupyterKernelCrash'>here</a> for more info. View Jupyter <a href='command:jupyter.viewOutput'>log</a> for further details."
     ]
    }
   ],
   "source": [
    "#stop_tor()\n",
    "# Start Tor process in the background\n",
    "#tor_process = start_tor()\n",
    "#change_permissions_onion_service_folder()\n",
    "#onion_process = None\n",
    "# try:\n",
    "#     onion_process = create_dummy_onion_service()\n",
    "#     print(\"onion_process\", onion_process)\n",
    "#     print(\"Tor process started. Waiting for a moment...\")\n",
    "#     time.sleep(10)  # Allow Tor to start\n",
    "#     #time.sleep(500)  # Allow Tor to start\n",
    "\n",
    "# except Exception as e:\n",
    "#     traceback.print_exc()\n",
    "#     if onion_process:\n",
    "#         onion_process.terminate()\n",
    "#         print(\"Exited Tor process cleanly after error\")\n",
    "\n",
    "# try:\n",
    "num_clients = 10\n",
    "generate_client_circuits(num_clients)\n",
    "\n",
    "# except Exception as e:\n",
    "#     traceback.print_exc()\n",
    "\n",
    "# finally:\n",
    "#     if onion_process:\n",
    "#         onion_process.terminate()\n",
    "#         print(\"Exited Tor process cleanly at the end\")"
   ]
  }
 ],
 "metadata": {
  "kernelspec": {
   "display_name": "ml_experiments",
   "language": "python",
   "name": "python3"
  },
  "language_info": {
   "codemirror_mode": {
    "name": "ipython",
    "version": 3
   },
   "file_extension": ".py",
   "mimetype": "text/x-python",
   "name": "python",
   "nbconvert_exporter": "python",
   "pygments_lexer": "ipython3",
   "version": "3.9.0"
  },
  "orig_nbformat": 4
 },
 "nbformat": 4,
 "nbformat_minor": 2
}
