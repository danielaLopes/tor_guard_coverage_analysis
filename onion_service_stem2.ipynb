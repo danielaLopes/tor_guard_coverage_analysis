{
 "cells": [
  {
   "cell_type": "markdown",
   "metadata": {},
   "source": [
    "Methodology was based on Section 6.2 of paper \"Quantifying measurement quality and load distribution in Tor\": https://dl.acm.org/doi/pdf/10.1145/3427228.3427238\n",
    "\n",
    "* I can always create a new container image with a Tor process representing each client and it will always choose a new guard node, so I don't have to change the default Tor definitions\n",
    "* Log all relays along with their data, specifically geographical location, used in each client circuit.\n",
    "* In the paper, the authors logged over 8.6 million circuits, representing about 275,000 circuits per day\n",
    "* Drop the circuit immediately after creation to ensure not overloading the guard relays\n",
    "* Wait 16 minutes between each circuit"
   ]
  },
  {
   "cell_type": "code",
   "execution_count": 1,
   "metadata": {},
   "outputs": [
    {
     "name": "stdout",
     "output_type": "stream",
     "text": [
      "Requirement already satisfied: stem in /Users/danielalopes/opt/anaconda3/envs/ml_experiments/lib/python3.9/site-packages (1.8.2)\n"
     ]
    }
   ],
   "source": [
    "!pip install stem"
   ]
  },
  {
   "cell_type": "code",
   "execution_count": 2,
   "metadata": {},
   "outputs": [],
   "source": [
    "import subprocess\n",
    "import requests\n",
    "import shlex\n",
    "import traceback\n",
    "import time\n",
    "from stem import CircStatus\n",
    "from stem.control import Controller\n",
    "import stem.process\n",
    "from flask import Flask\n",
    "import os\n",
    "import shutil\n"
   ]
  },
  {
   "cell_type": "code",
   "execution_count": 3,
   "metadata": {},
   "outputs": [],
   "source": [
    "WEB_PORT = 8081"
   ]
  },
  {
   "cell_type": "code",
   "execution_count": 4,
   "metadata": {},
   "outputs": [],
   "source": [
    "app = Flask(__name__)\n",
    "\n",
    "\n",
    "@app.route('/')\n",
    "def index():\n",
    "  return \"<h1>Hi Grandma!</h1>\""
   ]
  },
  {
   "cell_type": "code",
   "execution_count": 5,
   "metadata": {},
   "outputs": [],
   "source": [
    "\n",
    "def connect_to_controller():\n",
    "    with Controller.from_port() as controller:\n",
    "        controller.authenticate()\n",
    "        print(\"Successfully authenticated with Tor control port\")\n",
    "\n",
    "        hidden_service_dir = os.path.join(controller.get_conf('DataDirectory', '/tmp'), 'hello_world')\n",
    "\n",
    "        # Create a hidden service where visitors of port 80 get redirected to local\n",
    "        # port 8081 (this is where Flask runs by default).\n",
    "\n",
    "        print(\" * Creating our hidden service in %s\" % hidden_service_dir)\n",
    "        result = controller.create_hidden_service(hidden_service_dir, 80, target_port=WEB_PORT)\n",
    "\n",
    "        # The hostname is only available when we can read the hidden service\n",
    "        # directory. This requires us to be running with the same user as tor.\n",
    "\n",
    "        if result.hostname:\n",
    "            print(\" * Our service is available at %s, press ctrl+c to quit\" % result.hostname)\n",
    "        else:\n",
    "            print(\" * Unable to determine our service's hostname, probably due to being unable to read the hidden service directory\")\n",
    "\n",
    "        try:\n",
    "            app.run(port=WEB_PORT)\n",
    "        finally:\n",
    "            # Shut down the hidden service and clean it off disk. Note that you *don't*\n",
    "            # want to delete the hidden service directory if you'd like to have this\n",
    "            # same *.onion address in the future.\n",
    "            print(\" * Shutting down our hidden service\")\n",
    "            controller.remove_hidden_service(hidden_service_dir)\n",
    "            shutil.rmtree(hidden_service_dir)\n",
    "    "
   ]
  },
  {
   "cell_type": "markdown",
   "metadata": {},
   "source": [
    "### Check if Tor is already running\n",
    "First, restart the kernel. Then, run the following commands:\n",
    "```\n",
    "sudo lsof -i -P | grep LISTEN | grep 9050\n",
    "sudo kill -9 95441\n",
    "```"
   ]
  },
  {
   "cell_type": "code",
   "execution_count": 6,
   "metadata": {},
   "outputs": [
    {
     "name": "stdout",
     "output_type": "stream",
     "text": [
      "Successfully authenticated with Tor control port\n",
      " * Creating our hidden service in /Users/danielalopes/Library/Application Support/TorBrowser-Data/Tor/hello_world\n"
     ]
    },
    {
     "ename": "AttributeError",
     "evalue": "'NoneType' object has no attribute 'hostname'",
     "output_type": "error",
     "traceback": [
      "\u001b[0;31m---------------------------------------------------------------------------\u001b[0m",
      "\u001b[0;31mAttributeError\u001b[0m                            Traceback (most recent call last)",
      "Cell \u001b[0;32mIn[6], line 1\u001b[0m\n\u001b[0;32m----> 1\u001b[0m connect_to_controller()\n",
      "Cell \u001b[0;32mIn[5], line 17\u001b[0m, in \u001b[0;36mconnect_to_controller\u001b[0;34m()\u001b[0m\n\u001b[1;32m     12\u001b[0m result \u001b[39m=\u001b[39m controller\u001b[39m.\u001b[39mcreate_hidden_service(hidden_service_dir, \u001b[39m80\u001b[39m, target_port\u001b[39m=\u001b[39mWEB_PORT)\n\u001b[1;32m     14\u001b[0m \u001b[39m# The hostname is only available when we can read the hidden service\u001b[39;00m\n\u001b[1;32m     15\u001b[0m \u001b[39m# directory. This requires us to be running with the same user as tor.\u001b[39;00m\n\u001b[0;32m---> 17\u001b[0m \u001b[39mif\u001b[39;00m result\u001b[39m.\u001b[39;49mhostname:\n\u001b[1;32m     18\u001b[0m     \u001b[39mprint\u001b[39m(\u001b[39m\"\u001b[39m\u001b[39m * Our service is available at \u001b[39m\u001b[39m%s\u001b[39;00m\u001b[39m, press ctrl+c to quit\u001b[39m\u001b[39m\"\u001b[39m \u001b[39m%\u001b[39m result\u001b[39m.\u001b[39mhostname)\n\u001b[1;32m     19\u001b[0m \u001b[39melse\u001b[39;00m:\n",
      "\u001b[0;31mAttributeError\u001b[0m: 'NoneType' object has no attribute 'hostname'"
     ]
    }
   ],
   "source": [
    "connect_to_controller()\n",
    "    "
   ]
  },
  {
   "cell_type": "markdown",
   "metadata": {},
   "source": []
  }
 ],
 "metadata": {
  "kernelspec": {
   "display_name": "ml_experiments",
   "language": "python",
   "name": "python3"
  },
  "language_info": {
   "codemirror_mode": {
    "name": "ipython",
    "version": 3
   },
   "file_extension": ".py",
   "mimetype": "text/x-python",
   "name": "python",
   "nbconvert_exporter": "python",
   "pygments_lexer": "ipython3",
   "version": "3.9.0"
  },
  "orig_nbformat": 4
 },
 "nbformat": 4,
 "nbformat_minor": 2
}
